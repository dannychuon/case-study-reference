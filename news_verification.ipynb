{
 "cells": [
  {
   "cell_type": "code",
   "execution_count": 1,
   "metadata": {},
   "outputs": [],
   "source": [
    "import pandas as pd\n",
    "import numpy as np\n",
    "\n",
    "from sklearn.linear_model import LogisticRegression\n",
    "from sklearn.metrics import plot_confusion_matrix, confusion_matrix\n",
    "\n",
    "from sklearn.preprocessing import StandardScaler\n",
    "\n",
    "import matplotlib.pyplot as plt\n",
    "np.random.seed(10) # Set a seed to make our results reproducible"
   ]
  },
  {
   "cell_type": "markdown",
   "metadata": {},
   "source": [
    "#### About the data\n",
    "* Title:\n",
    "The title of the article\n",
    "\n",
    "* text:\n",
    "The text of the article\n",
    "\n",
    "* subject:\n",
    "The subject of the article\n",
    "\n",
    "* date:\n",
    "The date at which the article was posted"
   ]
  },
  {
   "cell_type": "markdown",
   "metadata": {},
   "source": [
    "### Loading the data"
   ]
  },
  {
   "cell_type": "code",
   "execution_count": 39,
   "metadata": {},
   "outputs": [],
   "source": [
    "X_train = pd.read_csv('news_train.csv', sep=\",\")\n",
    "y_train = X_train['labels']"
   ]
  },
  {
   "cell_type": "markdown",
   "metadata": {},
   "source": [
    "#### Quick look at the data"
   ]
  },
  {
   "cell_type": "code",
   "execution_count": 4,
   "metadata": {},
   "outputs": [
    {
     "data": {
      "text/html": [
       "<div>\n",
       "<style scoped>\n",
       "    .dataframe tbody tr th:only-of-type {\n",
       "        vertical-align: middle;\n",
       "    }\n",
       "\n",
       "    .dataframe tbody tr th {\n",
       "        vertical-align: top;\n",
       "    }\n",
       "\n",
       "    .dataframe thead th {\n",
       "        text-align: right;\n",
       "    }\n",
       "</style>\n",
       "<table border=\"1\" class=\"dataframe\">\n",
       "  <thead>\n",
       "    <tr style=\"text-align: right;\">\n",
       "      <th></th>\n",
       "      <th>title</th>\n",
       "      <th>text</th>\n",
       "      <th>subject</th>\n",
       "      <th>date</th>\n",
       "      <th>labels</th>\n",
       "    </tr>\n",
       "  </thead>\n",
       "  <tbody>\n",
       "    <tr>\n",
       "      <th>0</th>\n",
       "      <td>U.S. House panel offers alternative to retirem...</td>\n",
       "      <td>WASHINGTON (Reuters) - Legislation to bypass t...</td>\n",
       "      <td>politicsNews</td>\n",
       "      <td>February 3, 2016</td>\n",
       "      <td>Real</td>\n",
       "    </tr>\n",
       "    <tr>\n",
       "      <th>1</th>\n",
       "      <td>THE SMARTEST WOMAN In Politics: “How Trump Can...</td>\n",
       "      <td>Monica Crowley offers some of the most brillia...</td>\n",
       "      <td>left-news</td>\n",
       "      <td>Sep 22, 2016</td>\n",
       "      <td>Fake</td>\n",
       "    </tr>\n",
       "    <tr>\n",
       "      <th>2</th>\n",
       "      <td>CNN CLOWN Who Cries About “FAKE NEWS” Uses Unv...</td>\n",
       "      <td>The video featured a Youtube prankster named A...</td>\n",
       "      <td>politics</td>\n",
       "      <td>Dec 23, 2016</td>\n",
       "      <td>Fake</td>\n",
       "    </tr>\n",
       "    <tr>\n",
       "      <th>3</th>\n",
       "      <td>NAACP CHIEF Asks BLM Rioters To “Show up en ma...</td>\n",
       "      <td>Put down the bricks and vote! Hmmm I wonder if...</td>\n",
       "      <td>politics</td>\n",
       "      <td>Jul 10, 2016</td>\n",
       "      <td>Fake</td>\n",
       "    </tr>\n",
       "    <tr>\n",
       "      <th>4</th>\n",
       "      <td>Possible Putin-Trump meeting in Vietnam still ...</td>\n",
       "      <td>MOSCOW (Reuters) - The Kremlin said on Thursda...</td>\n",
       "      <td>worldnews</td>\n",
       "      <td>November 9, 2017</td>\n",
       "      <td>Real</td>\n",
       "    </tr>\n",
       "  </tbody>\n",
       "</table>\n",
       "</div>"
      ],
      "text/plain": [
       "                                               title  \\\n",
       "0  U.S. House panel offers alternative to retirem...   \n",
       "1  THE SMARTEST WOMAN In Politics: “How Trump Can...   \n",
       "2  CNN CLOWN Who Cries About “FAKE NEWS” Uses Unv...   \n",
       "3  NAACP CHIEF Asks BLM Rioters To “Show up en ma...   \n",
       "4  Possible Putin-Trump meeting in Vietnam still ...   \n",
       "\n",
       "                                                text       subject  \\\n",
       "0  WASHINGTON (Reuters) - Legislation to bypass t...  politicsNews   \n",
       "1  Monica Crowley offers some of the most brillia...     left-news   \n",
       "2  The video featured a Youtube prankster named A...      politics   \n",
       "3  Put down the bricks and vote! Hmmm I wonder if...      politics   \n",
       "4  MOSCOW (Reuters) - The Kremlin said on Thursda...     worldnews   \n",
       "\n",
       "                date labels  \n",
       "0  February 3, 2016    Real  \n",
       "1       Sep 22, 2016   Fake  \n",
       "2       Dec 23, 2016   Fake  \n",
       "3       Jul 10, 2016   Fake  \n",
       "4  November 9, 2017    Real  "
      ]
     },
     "execution_count": 4,
     "metadata": {},
     "output_type": "execute_result"
    }
   ],
   "source": [
    "X_train.head()"
   ]
  },
  {
   "cell_type": "markdown",
   "metadata": {},
   "source": [
    "#### Understanding the data: Proportion of fake and real news\n",
    "\n",
    "It can be seen that our training set has approximately as many fake news as real news"
   ]
  },
  {
   "cell_type": "code",
   "execution_count": 7,
   "metadata": {},
   "outputs": [
    {
     "data": {
      "text/plain": [
       "(array([0, 1]), <a list of 2 Text xticklabel objects>)"
      ]
     },
     "execution_count": 7,
     "metadata": {},
     "output_type": "execute_result"
    },
    {
     "data": {
      "image/png": "[encoded data removed]",
      "text/plain": [
       "<Figure size 432x288 with 1 Axes>"
      ]
     },
     "metadata": {
      "needs_background": "light"
     },
     "output_type": "display_data"
    }
   ],
   "source": [
    "import matplotlib.pyplot as plt\n",
    "X_train['labels'].value_counts().plot(kind='bar', title=\"Proportion of each news types\")\n",
    "plt.ylabel('Count')\n",
    "plt.xlabel('News types')\n",
    "plt.xticks(rotation=0)"
   ]
  },
  {
   "cell_type": "markdown",
   "metadata": {},
   "source": [
    "#### News subjects by news types\n",
    "This graph is interesting, it appears that real news are generally fall under pioticsNews and world news subjects.\n",
    "And fake news seem to appear mostly in general news as well as news about politics "
   ]
  },
  {
   "cell_type": "code",
   "execution_count": 41,
   "metadata": {},
   "outputs": [
    {
     "data": {
      "image/png": "[encoded data removed]",
      "text/plain": [
       "<Figure size 576x432 with 1 Axes>"
      ]
     },
     "metadata": {
      "needs_background": "light"
     },
     "output_type": "display_data"
    }
   ],
   "source": [
    "from process_data import plot_marginal_distribution\n",
    "plot_marginal_distribution(\n",
    "    X_train.rename(columns={'labels': 'News types'}), \n",
    "                           var1='subject', \n",
    "                           var2='News types', \n",
    "                           title='Distribution of news type per subject categories')"
   ]
  },
  {
   "cell_type": "markdown",
   "metadata": {},
   "source": [
    "#### Compare article title patterns accross news types\n",
    "\n",
    "Fake news seem to have longer titles"
   ]
  },
  {
   "cell_type": "code",
   "execution_count": 20,
   "metadata": {},
   "outputs": [],
   "source": [
    "import warnings\n",
    "warnings.filterwarnings('ignore')\n",
    "# after this command, restart the Kernel if necessary\n",
    "try:\n",
    "    import seaborn as sns\n",
    "except:\n",
    "    !pip install seaborn\n",
    "    import seaborn as sns"
   ]
  },
  {
   "cell_type": "code",
   "execution_count": 44,
   "metadata": {},
   "outputs": [
    {
     "data": {
      "image/png": "[encoded data removed]",
      "text/plain": [
       "<Figure size 432x288 with 1 Axes>"
      ]
     },
     "metadata": {
      "needs_background": "light"
     },
     "output_type": "display_data"
    }
   ],
   "source": [
    "# Restart the kernel if this fails\n",
    "plt.figure(figsize=(6,4))\n",
    "X_train['title_length'] = X_train['title'].apply(lambda x : len(x.strip().split()))\n",
    "sns.distplot(X_train[X_train['labels'] == 'Fake']['title_length'], \n",
    "             kde=False, label='Fake', bins=20)\n",
    "sns.distplot(X_train[X_train['labels'] == 'Real']['title_length'], \n",
    "             kde=False, label='Real', bins=20)\n",
    "plt.xlabel('Title Length', weight='bold')\n",
    "plt.title('Length of title comparison', weight='bold')\n",
    "plt.legend()\n",
    "plt.show()"
   ]
  },
  {
   "cell_type": "code",
   "execution_count": 22,
   "metadata": {},
   "outputs": [
    {
     "data": {
      "text/plain": [
       "'WASHINGTON (Reuters) - Legislation to bypass the U.S. Labor Department and have Congress set standards for brokers who give retirement advice passed a major committee on Wednesday and is now headed to the full House of Representatives. Although the bill faces slim chances of becoming law, it reveals the depth of feuding in Washington over the 2010 Dodd-Frank Wall Street reform law’s requirement that retirement advisers follow a “fiduciary” standard that puts their clients’ interests first. The requirement aims to end potential conflicts of interest by brokers who advise on individual retirement accounts and to protect consumers from buying unnecessary investment products that line brokers’ pockets.  Last week, the Labor Department sent a revised proposal for an adviser rule to the White House’s Office of Management and Budget. Details will not be made public until the White House completes its review. This was the department’s second stab at a rule. Wide criticism from the industry and lawmakers alike forced it to withdraw its initial proposal in 2011.  The House Ways and Means Committee split along party lines as it debated the legislation, which would create a “best interest requirement” and lay out processes for advisers to follow.  Republicans, the majority, touted it as a workable alternative to the Labor Department’s rule, which they said could “frighten off” middle-income investors from seeking advice and give advisers incentives to work only for wealthy clients.  They took issue with how the Labor Department drafted its rule, as well, saying the first version was panned by thousands of people and complaining that the current version lacked transparency. “Just disclose it,” said Rep. Peter Roskam, of Illinois, who helped write the bill, in comments directed at the department. “You’ve written it. It’s done. It’s not holy text.” Democrats said lawmakers should wait to see the Labor Department’s rule before bypassing it. They also complained there were no hearings on the bill, introduced in December, and said industry pressure was behind a sudden rush to pass it. President Barack Obama, a Democrat, would likely veto the legislation if it passed both the House and the Senate. Democrats cautioned that the bill’s major effect, then, will be to hamper negotiations lawmakers might want to have with his administration. Since the initial version was released, Democrats have raised potential problems they see in the rule with the Labor Department. '"
      ]
     },
     "execution_count": 22,
     "metadata": {},
     "output_type": "execute_result"
    }
   ],
   "source": [
    "text = X_train.loc[0, 'text']\n",
    "text"
   ]
  },
  {
   "cell_type": "markdown",
   "metadata": {},
   "source": [
    "#### Pre-processing\n",
    "For simplicity, we also ignore the title of the article, and focus solely on the actual text of the article\n",
    "\n",
    "Data prepricessing will essentially consist of:\n",
    "- removing stop words\n",
    "- removing special characters\n",
    "- removing hyperlinks\n",
    "- lower case the entire text"
   ]
  },
  {
   "cell_type": "code",
   "execution_count": 26,
   "metadata": {},
   "outputs": [
    {
     "data": {
      "text/plain": [
       "'washington reuters   legislation to bypass the u s  labor department and have congress set standards for brokers who give retirement advice passed a major committee on wednesday and is now headed to the full house of representatives  although the bill faces slim chances of becoming law, it reveals the depth of feuding in washington over the 2010 dodd frank wall street reform law’s requirement that retirement advisers follow a “fiduciary” standard that puts their clients’ interests first  the requirement aims to end potential conflicts of interest by brokers who advise on individual retirement accounts and to protect consumers from buying unnecessary investment products that line brokers’ pockets   last week, the labor department sent a revised proposal for an adviser rule to the white house’s office of management and budget  details will not be made public until the white house completes its review  this was the department’s second stab at a rule  wide criticism from the industry and lawmakers alike forced it to withdraw its initial proposal in 2011   the house ways and means committee split along party lines as it debated the legislation, which would create a “best interest requirement” and lay out processes for advisers to follow   republicans, the majority, touted it as a workable alternative to the labor department’s rule, which they said could “frighten off” middle income investors from seeking advice and give advisers incentives to work only for wealthy clients   they took issue with how the labor department drafted its rule, as well, saying the first version was panned by thousands of people and complaining that the current version lacked transparency  “just disclose it,” said rep  peter roskam, of illinois, who helped write the bill, in comments directed at the department  “you’ve written it  it’s done  it’s not holy text ” democrats said lawmakers should wait to see the labor department’s rule before bypassing it  they also complained there were no hearings on the bill, introduced in december, and said industry pressure was behind a sudden rush to pass it  president barack obama, a democrat, would likely veto the legislation if it passed both the house and the senate  democrats cautioned that the bill’s major effect, then, will be to hamper negotiations lawmakers might want to have with his administration  since the initial version was released, democrats have raised potential problems they see in the rule with the labor department  '"
      ]
     },
     "execution_count": 26,
     "metadata": {},
     "output_type": "execute_result"
    }
   ],
   "source": [
    "import re\n",
    "\n",
    "def remove_special_characters(text):\n",
    "    \"\"\" remove special characters from text \"\"\"\n",
    "    delete_chars = \"[]()@''+&'\"\n",
    "    space_chars = \"_.-\"\n",
    "    table = dict((ord(c), \" \") for c in space_chars)\n",
    "    table.update(dict((ord(c), None) for c in delete_chars))\n",
    "    return text.translate(table)\n",
    "\n",
    "\n",
    "def text_pre_processing(text, stop_words=True):\n",
    "    \"\"\" remove special characters, hyperlinks, and lowercase everything \"\"\"\n",
    "    # remove hyperlinks\n",
    "    text = re.sub(r'^https?:\\/\\/.*[\\r\\n]*', '', text.lower(), flags=re.MULTILINE)\n",
    "    text = re.sub('<[^>]*>', '', text)\n",
    "    \n",
    "    # remove custom special characters from our text\n",
    "    cleaned_text = remove_special_characters(text)\n",
    "    \n",
    "    return cleaned_text\n",
    "# text_pre_processing(text)"
   ]
  },
  {
   "cell_type": "markdown",
   "metadata": {},
   "source": [
    "#### Create a corpus from cleanned text"
   ]
  },
  {
   "cell_type": "code",
   "execution_count": 27,
   "metadata": {},
   "outputs": [],
   "source": [
    "from sklearn.feature_extraction.text import TfidfVectorizer\n",
    "train_corpus = [text_pre_processing(text) for text in X_train['text']]"
   ]
  },
  {
   "cell_type": "markdown",
   "metadata": {},
   "source": [
    "#### Creating features, \n",
    "\n",
    "we will use the TfidfVectorizer class of sklearn feature_extraction class.\n",
    "We initialize TfidfVectorizer with stop words from the English language and a maximum document frequency of 0.8 (terms with a higher document frequency will be discarded). \n",
    "Stop words are the most common words in a language that are to be filtered out before processing the natural language data. \n",
    "\n",
    "And a TfidfVectorizer turns a collection of raw documents into a matrix of TF-IDF features.\n",
    "\n",
    "TF = term frequency\n",
    "IDF = inverse document frequency "
   ]
  },
  {
   "cell_type": "code",
   "execution_count": 47,
   "metadata": {},
   "outputs": [],
   "source": [
    "from sklearn.feature_extraction.text import TfidfVectorizer\n",
    "tf_idf_vectorizer = TfidfVectorizer(stop_words='english', max_df=0.8, strip_accents='unicode')\n",
    "\n",
    "train_corpus = [text_pre_processing(text) for text in X_train['text']]\n",
    "# Fit and transform the train set\n",
    "features = tf_idf_vectorizer.fit_transform(train_corpus)"
   ]
  },
  {
   "cell_type": "markdown",
   "metadata": {},
   "source": [
    "#### Training the model"
   ]
  },
  {
   "cell_type": "code",
   "execution_count": 48,
   "metadata": {},
   "outputs": [],
   "source": [
    "from sklearn.linear_model import LogisticRegression\n",
    "\n",
    "\n",
    "classifier = LogisticRegression(random_state=12, class_weight='balanced')\n",
    "# Train the model\n",
    "y_train = [1 if x == 'Real' else 0 for x in y_train]\n",
    "classifier = classifier.fit(features, y_train)"
   ]
  },
  {
   "cell_type": "markdown",
   "metadata": {},
   "source": [
    "#### Preparing test data and evaluate the model"
   ]
  },
  {
   "cell_type": "code",
   "execution_count": 49,
   "metadata": {},
   "outputs": [
    {
     "data": {
      "image/png": "[encoded data removed]",
      "text/plain": [
       "<Figure size 432x288 with 2 Axes>"
      ]
     },
     "metadata": {
      "needs_background": "light"
     },
     "output_type": "display_data"
    }
   ],
   "source": [
    "from sklearn.metrics import plot_confusion_matrix, confusion_matrix\n",
    "\n",
    "X_test = pd.read_csv('news_test.csv', sep=\",\")\n",
    "y_test = [1 if x == 'Real' else 0 for x in X_test['labels']]\n",
    "\n",
    "test_corpus = [text_pre_processing(text) for text in X_test['text']]\n",
    "X_test = tf_idf_vectorizer.transform(test_corpus)\n",
    "\n",
    "y_preds = classifier.predict(X_test)\n",
    "\n",
    "class_names = ['Real', 'Fake']\n",
    "disp = plot_confusion_matrix(classifier, X_test, \n",
    "                             y_test, display_labels=class_names, \n",
    "                             cmap=plt.cm.Oranges, \n",
    "                             normalize=None, values_format='.0f', labels=[1, 0])"
   ]
  },
  {
   "cell_type": "markdown",
   "metadata": {},
   "source": [
    "#### Saving the model and the TfidfVectorizer to the disk"
   ]
  },
  {
   "cell_type": "code",
   "execution_count": 37,
   "metadata": {},
   "outputs": [],
   "source": [
    "import pickle\n",
    "\n",
    "with open('./webservice/static/news_verification_model.pkl', 'wb') as stream:\n",
    "    pickle.dump(classifier, stream)\n",
    "\n",
    "\n",
    "with open('./webservice/static/tfidf_feature_extractor.pkl', 'wb') as stream:\n",
    "    pickle.dump(tf_idf_vectorizer, stream)"
   ]
  }
 ],
 "metadata": {
  "kernelspec": {
   "display_name": "Python 3",
   "language": "python",
   "name": "python3"
  },
  "language_info": {
   "codemirror_mode": {
    "name": "ipython",
    "version": 3
   },
   "file_extension": ".py",
   "mimetype": "text/x-python",
   "name": "python",
   "nbconvert_exporter": "python",
   "pygments_lexer": "ipython3",
   "version": "3.6.12"
  }
 },
 "nbformat": 4,
 "nbformat_minor": 2
}
